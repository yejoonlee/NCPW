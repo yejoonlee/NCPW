{
  "nbformat": 4,
  "nbformat_minor": 0,
  "metadata": {
    "colab": {
      "name": "TS_classification.ipynb",
      "provenance": [],
      "authorship_tag": "ABX9TyNjiYlbsShuIHKPgVOLXy9y",
      "include_colab_link": true
    },
    "kernelspec": {
      "name": "python3",
      "display_name": "Python 3"
    },
    "language_info": {
      "name": "python"
    },
    "accelerator": "GPU"
  },
  "cells": [
    {
      "cell_type": "markdown",
      "metadata": {
        "id": "view-in-github",
        "colab_type": "text"
      },
      "source": [
        "<a href=\"https://colab.research.google.com/github/yejoonlee/NCPW/blob/main/NCPW_DL/classify_log/TS_classification.ipynb\" target=\"_parent\"><img src=\"https://colab.research.google.com/assets/colab-badge.svg\" alt=\"Open In Colab\"/></a>"
      ]
    },
    {
      "cell_type": "code",
      "source": [
        "!pip install -U tensorflow==2.4.0"
      ],
      "metadata": {
        "colab": {
          "base_uri": "https://localhost:8080/",
          "height": 1000
        },
        "id": "_gq9c58sqbxb",
        "outputId": "b656fbdd-5d20-43fc-ed1d-b9c4000e50c7"
      },
      "execution_count": null,
      "outputs": [
        {
          "output_type": "stream",
          "name": "stdout",
          "text": [
            "Collecting tensorflow==2.4.0\n",
            "  Using cached tensorflow-2.4.0-cp37-cp37m-manylinux2010_x86_64.whl (394.7 MB)\n",
            "Requirement already satisfied: tensorflow-estimator<2.5.0,>=2.4.0rc0 in /usr/local/lib/python3.7/dist-packages (from tensorflow==2.4.0) (2.4.0)\n",
            "Requirement already satisfied: google-pasta~=0.2 in /usr/local/lib/python3.7/dist-packages (from tensorflow==2.4.0) (0.2.0)\n",
            "Requirement already satisfied: keras-preprocessing~=1.1.2 in /usr/local/lib/python3.7/dist-packages (from tensorflow==2.4.0) (1.1.2)\n",
            "Requirement already satisfied: wheel~=0.35 in /usr/local/lib/python3.7/dist-packages (from tensorflow==2.4.0) (0.37.1)\n",
            "Requirement already satisfied: protobuf>=3.9.2 in /usr/local/lib/python3.7/dist-packages (from tensorflow==2.4.0) (3.17.3)\n",
            "Requirement already satisfied: flatbuffers~=1.12.0 in /usr/local/lib/python3.7/dist-packages (from tensorflow==2.4.0) (1.12)\n",
            "Requirement already satisfied: astunparse~=1.6.3 in /usr/local/lib/python3.7/dist-packages (from tensorflow==2.4.0) (1.6.3)\n",
            "Collecting numpy~=1.19.2\n",
            "  Using cached numpy-1.19.5-cp37-cp37m-manylinux2010_x86_64.whl (14.8 MB)\n",
            "Requirement already satisfied: absl-py~=0.10 in /usr/local/lib/python3.7/dist-packages (from tensorflow==2.4.0) (0.15.0)\n",
            "Requirement already satisfied: typing-extensions~=3.7.4 in /usr/local/lib/python3.7/dist-packages (from tensorflow==2.4.0) (3.7.4.3)\n",
            "Requirement already satisfied: tensorboard~=2.4 in /usr/local/lib/python3.7/dist-packages (from tensorflow==2.4.0) (2.8.0)\n",
            "Requirement already satisfied: wrapt~=1.12.1 in /usr/local/lib/python3.7/dist-packages (from tensorflow==2.4.0) (1.12.1)\n",
            "Requirement already satisfied: termcolor~=1.1.0 in /usr/local/lib/python3.7/dist-packages (from tensorflow==2.4.0) (1.1.0)\n",
            "Requirement already satisfied: gast==0.3.3 in /usr/local/lib/python3.7/dist-packages (from tensorflow==2.4.0) (0.3.3)\n",
            "Requirement already satisfied: h5py~=2.10.0 in /usr/local/lib/python3.7/dist-packages (from tensorflow==2.4.0) (2.10.0)\n",
            "Requirement already satisfied: grpcio~=1.32.0 in /usr/local/lib/python3.7/dist-packages (from tensorflow==2.4.0) (1.32.0)\n",
            "Requirement already satisfied: opt-einsum~=3.3.0 in /usr/local/lib/python3.7/dist-packages (from tensorflow==2.4.0) (3.3.0)\n",
            "Requirement already satisfied: six~=1.15.0 in /usr/local/lib/python3.7/dist-packages (from tensorflow==2.4.0) (1.15.0)\n",
            "Requirement already satisfied: markdown>=2.6.8 in /usr/local/lib/python3.7/dist-packages (from tensorboard~=2.4->tensorflow==2.4.0) (3.3.6)\n",
            "Requirement already satisfied: werkzeug>=0.11.15 in /usr/local/lib/python3.7/dist-packages (from tensorboard~=2.4->tensorflow==2.4.0) (1.0.1)\n",
            "Requirement already satisfied: setuptools>=41.0.0 in /usr/local/lib/python3.7/dist-packages (from tensorboard~=2.4->tensorflow==2.4.0) (57.4.0)\n",
            "Requirement already satisfied: tensorboard-data-server<0.7.0,>=0.6.0 in /usr/local/lib/python3.7/dist-packages (from tensorboard~=2.4->tensorflow==2.4.0) (0.6.1)\n",
            "Requirement already satisfied: google-auth<3,>=1.6.3 in /usr/local/lib/python3.7/dist-packages (from tensorboard~=2.4->tensorflow==2.4.0) (1.35.0)\n",
            "Requirement already satisfied: requests<3,>=2.21.0 in /usr/local/lib/python3.7/dist-packages (from tensorboard~=2.4->tensorflow==2.4.0) (2.23.0)\n",
            "Requirement already satisfied: google-auth-oauthlib<0.5,>=0.4.1 in /usr/local/lib/python3.7/dist-packages (from tensorboard~=2.4->tensorflow==2.4.0) (0.4.6)\n",
            "Requirement already satisfied: tensorboard-plugin-wit>=1.6.0 in /usr/local/lib/python3.7/dist-packages (from tensorboard~=2.4->tensorflow==2.4.0) (1.8.1)\n",
            "Requirement already satisfied: cachetools<5.0,>=2.0.0 in /usr/local/lib/python3.7/dist-packages (from google-auth<3,>=1.6.3->tensorboard~=2.4->tensorflow==2.4.0) (4.2.4)\n",
            "Requirement already satisfied: rsa<5,>=3.1.4 in /usr/local/lib/python3.7/dist-packages (from google-auth<3,>=1.6.3->tensorboard~=2.4->tensorflow==2.4.0) (4.8)\n",
            "Requirement already satisfied: pyasn1-modules>=0.2.1 in /usr/local/lib/python3.7/dist-packages (from google-auth<3,>=1.6.3->tensorboard~=2.4->tensorflow==2.4.0) (0.2.8)\n",
            "Requirement already satisfied: requests-oauthlib>=0.7.0 in /usr/local/lib/python3.7/dist-packages (from google-auth-oauthlib<0.5,>=0.4.1->tensorboard~=2.4->tensorflow==2.4.0) (1.3.1)\n",
            "Requirement already satisfied: importlib-metadata>=4.4 in /usr/local/lib/python3.7/dist-packages (from markdown>=2.6.8->tensorboard~=2.4->tensorflow==2.4.0) (4.11.0)\n",
            "Requirement already satisfied: zipp>=0.5 in /usr/local/lib/python3.7/dist-packages (from importlib-metadata>=4.4->markdown>=2.6.8->tensorboard~=2.4->tensorflow==2.4.0) (3.7.0)\n",
            "Requirement already satisfied: pyasn1<0.5.0,>=0.4.6 in /usr/local/lib/python3.7/dist-packages (from pyasn1-modules>=0.2.1->google-auth<3,>=1.6.3->tensorboard~=2.4->tensorflow==2.4.0) (0.4.8)\n",
            "Requirement already satisfied: urllib3!=1.25.0,!=1.25.1,<1.26,>=1.21.1 in /usr/local/lib/python3.7/dist-packages (from requests<3,>=2.21.0->tensorboard~=2.4->tensorflow==2.4.0) (1.24.3)\n",
            "Requirement already satisfied: idna<3,>=2.5 in /usr/local/lib/python3.7/dist-packages (from requests<3,>=2.21.0->tensorboard~=2.4->tensorflow==2.4.0) (2.10)\n",
            "Requirement already satisfied: chardet<4,>=3.0.2 in /usr/local/lib/python3.7/dist-packages (from requests<3,>=2.21.0->tensorboard~=2.4->tensorflow==2.4.0) (3.0.4)\n",
            "Requirement already satisfied: certifi>=2017.4.17 in /usr/local/lib/python3.7/dist-packages (from requests<3,>=2.21.0->tensorboard~=2.4->tensorflow==2.4.0) (2021.10.8)\n",
            "Requirement already satisfied: oauthlib>=3.0.0 in /usr/local/lib/python3.7/dist-packages (from requests-oauthlib>=0.7.0->google-auth-oauthlib<0.5,>=0.4.1->tensorboard~=2.4->tensorflow==2.4.0) (3.2.0)\n",
            "Installing collected packages: numpy, tensorflow\n",
            "  Attempting uninstall: numpy\n",
            "    Found existing installation: numpy 1.21.5\n",
            "    Uninstalling numpy-1.21.5:\n",
            "      Successfully uninstalled numpy-1.21.5\n",
            "  Attempting uninstall: tensorflow\n",
            "    Found existing installation: tensorflow 2.8.0\n",
            "    Uninstalling tensorflow-2.8.0:\n",
            "      Successfully uninstalled tensorflow-2.8.0\n",
            "\u001b[31mERROR: pip's dependency resolver does not currently take into account all the packages that are installed. This behaviour is the source of the following dependency conflicts.\n",
            "datascience 0.10.6 requires folium==0.2.1, but you have folium 0.8.3 which is incompatible.\n",
            "albumentations 0.1.12 requires imgaug<0.2.7,>=0.2.5, but you have imgaug 0.2.9 which is incompatible.\u001b[0m\n",
            "Successfully installed numpy-1.19.5 tensorflow-2.4.0\n"
          ]
        },
        {
          "output_type": "display_data",
          "data": {
            "application/vnd.colab-display-data+json": {
              "pip_warning": {
                "packages": [
                  "numpy",
                  "tensorflow"
                ]
              }
            }
          },
          "metadata": {}
        }
      ]
    },
    {
      "cell_type": "code",
      "source": [
        "!pip show numpy"
      ],
      "metadata": {
        "colab": {
          "base_uri": "https://localhost:8080/"
        },
        "id": "Kww-fDmFrJaf",
        "outputId": "8f72ae05-f177-4af4-8470-0cda5f2282bf"
      },
      "execution_count": null,
      "outputs": [
        {
          "output_type": "stream",
          "name": "stdout",
          "text": [
            "Name: numpy\n",
            "Version: 1.19.5\n",
            "Summary: NumPy is the fundamental package for array computing with Python.\n",
            "Home-page: https://www.numpy.org\n",
            "Author: Travis E. Oliphant et al.\n",
            "Author-email: None\n",
            "License: BSD\n",
            "Location: /usr/local/lib/python3.7/dist-packages\n",
            "Requires: \n",
            "Required-by: xgboost, xarray, wordcloud, torchvision, torchtext, tifffile, thinc, Theano-PyMC, tensorflow, tensorflow-probability, tensorflow-hub, tensorflow-datasets, tensorboard, tables, statsmodels, spacy, sklearn-pandas, seaborn, scs, scipy, scikit-learn, scikit-image, resampy, qdldl, PyWavelets, python-louvain, pystan, pysndfile, pymc3, pyerfa, pyemd, pycocotools, pyarrow, plotnine, patsy, pandas, osqp, opt-einsum, opencv-python, opencv-contrib-python, numexpr, numba, nibabel, netCDF4, moviepy, mlxtend, mizani, missingno, matplotlib, matplotlib-venn, lightgbm, librosa, Keras-Preprocessing, kapre, jpeg4py, jaxlib, jax, imgaug, imbalanced-learn, imageio, hyperopt, holoviews, h5py, gym, gensim, folium, fix-yahoo-finance, fbprophet, fastprogress, fastdtw, fastai, fa2, ecos, daft, cvxpy, cupy-cuda111, cufflinks, cmdstanpy, cftime, Bottleneck, bokeh, blis, autograd, atari-py, astropy, arviz, altair, albumentations\n"
          ]
        }
      ]
    },
    {
      "cell_type": "code",
      "source": [
        "# Ignore the warnings\n",
        "import warnings\n",
        "warnings.filterwarnings('always')\n",
        "warnings.filterwarnings('ignore')\n",
        "\n",
        "# System related and data input controls\n",
        "import os\n",
        "\n",
        "# Data manipulation, visualization and useful functions\n",
        "import pandas as pd\n",
        "pd.options.display.float_format = '{:,.2f}'.format\n",
        "pd.options.display.max_rows = 50\n",
        "pd.options.display.max_columns = 40\n",
        "import numpy as np\n",
        "from tqdm import tqdm\n",
        "import matplotlib.pyplot as plt\n",
        "import seaborn as sns\n",
        "\n",
        "# Modeling algorithms\n",
        "# General(Statistics/Econometrics)\n",
        "from sklearn import preprocessing\n",
        "import statsmodels.api as sm\n",
        "import statsmodels.tsa.api as smt\n",
        "import statsmodels.formula.api as smf\n",
        "from statsmodels.stats.outliers_influence import variance_inflation_factor\n",
        "from scipy import stats\n",
        "\n",
        "# Classification\n",
        "from sklearn.linear_model import LogisticRegression\n",
        "from sklearn.neighbors import KNeighborsClassifier\n",
        "from sklearn.svm import LinearSVC, SVC\n",
        "from sklearn.tree import DecisionTreeClassifier\n",
        "from sklearn.naive_bayes import GaussianNB\n",
        "from sklearn.ensemble import RandomForestClassifier, GradientBoostingClassifier\n",
        "\n",
        "# Model selection\n",
        "from sklearn.model_selection import train_test_split,cross_validate\n",
        "from sklearn.model_selection import KFold\n",
        "from sklearn.model_selection import GridSearchCV\n",
        "\n",
        "# Evaluation metrics\n",
        "# for classification\n",
        "from sklearn.metrics import accuracy_score, precision_score, recall_score, f1_score\n",
        "\n",
        "# For Deep Learning\n",
        "import tensorflow as tf\n",
        "from tensorflow.keras.models import Sequential, Model, load_model\n",
        "from tensorflow.keras.layers import Input, Dense, Activation, Flatten, Dropout\n",
        "from tensorflow.keras.layers import SimpleRNN, LSTM, GRU"
      ],
      "metadata": {
        "id": "OkIMCBufxPhH"
      },
      "execution_count": null,
      "outputs": []
    },
    {
      "cell_type": "code",
      "source": [
        "### modify lagged values of X_test\n",
        "def feature_engineering_lag_modified(Y_test, X_test, target):\n",
        "    X_test_lm = X_test.copy()\n",
        "    for col in target:\n",
        "        X_test_lm[col] = Y_test.shift(1).values\n",
        "        X_test_lm[col].fillna(method='bfill', inplace=True)\n",
        "        X_test_lm[col] = Y_test.shift(2).values\n",
        "        X_test_lm[col].fillna(method='bfill', inplace=True)\n",
        "    return X_test_lm\n",
        "# target = ['count_lag1', 'count_lag2']\n",
        "# X_test_fe = feature_engineering_lag_modified(Y_test_fe, X_test_fe, target)\n",
        "\n",
        "### Data split of time series\n",
        "def datasplit_ts(raw, Y_colname, X_colname, criteria):\n",
        "    raw_train = raw.loc[raw.index < criteria,:]\n",
        "    raw_test = raw.loc[raw.index >= criteria,:]\n",
        "    Y_train = raw_train[Y_colname]\n",
        "    X_train = raw_train[X_colname]\n",
        "    Y_test = raw_test[Y_colname]\n",
        "    X_test = raw_test[X_colname]\n",
        "    print('Train_size:', raw_train.shape, 'Test_size:', raw_test.shape)\n",
        "    print('X_train:', X_train.shape, 'Y_train:', Y_train.shape)\n",
        "    print('X_test:', X_test.shape, 'Y_test:', Y_test.shape)\n",
        "    return X_train, X_test, Y_train, Y_test\n",
        "# X_train, X_test, Y_train, Y_test = datasplit_ts(raw_fe, Y_colname, X_colname, '2012-07-01')\n",
        "\n",
        "### extract non-multicollinearity variables by VIF \n",
        "def feature_engineering_XbyVIF(X_train, num_variables):\n",
        "    vif = pd.DataFrame()\n",
        "    vif['VIF_Factor'] = [variance_inflation_factor(X_train.values, i) \n",
        "                         for i in range(X_train.shape[1])]\n",
        "    vif['Feature'] = X_train.columns\n",
        "    X_colname_vif = vif.sort_values(by='VIF_Factor', ascending=True)['Feature'][:num_variables].values\n",
        "    return X_colname_vif\n",
        "# X_colname_vif = feature_engineering_XbyVIF(X_train_femm, 10)\n",
        "# X_colname_vif\n",
        "\n",
        "### Evaluation of 1 pair of set\n",
        "def evaluation(Y_real, Y_pred, graph_on=False):\n",
        "    loss_length = len(Y_real.values.flatten()) - len(Y_pred)\n",
        "    if loss_length != 0:\n",
        "        Y_real = Y_real[loss_length:]\n",
        "    if graph_on == True:\n",
        "        pd.concat([Y_real, pd.DataFrame(Y_pred, index=Y_real.index, columns=['prediction'])], axis=1).plot(kind='line', figsize=(20,6),\n",
        "                                                                                                           xlim=(Y_real.index.min(),Y_real.index.max()),\n",
        "                                                                                                           linewidth=3, fontsize=20)\n",
        "        plt.title('Time Series of Target', fontsize=20)\n",
        "        plt.xlabel('Index', fontsize=15)\n",
        "        plt.ylabel('Target Value', fontsize=15)\n",
        "    MAE = abs(Y_real.values.flatten() - Y_pred).mean()\n",
        "    MSE = ((Y_real.values.flatten() - Y_pred)**2).mean()\n",
        "    MAPE = (abs(Y_real.values.flatten() - Y_pred)/Y_real.values.flatten()*100).mean()\n",
        "    Score = pd.DataFrame([MAE, MSE, MAPE], index=['MAE', 'MSE', 'MAPE'], columns=['Score']).T\n",
        "    Residual = pd.DataFrame(Y_real.values.flatten() - Y_pred, index=Y_real.index, columns=['Error'])\n",
        "    return Score, Residual\n",
        "# Score_tr, Residual_tr = evaluation(Y_train, pred_tr_reg1, graph_on=True)\n",
        "\n",
        "\n",
        "### Evaluation of train/test pairs\n",
        "def evaluation_trte(Y_real_tr, Y_pred_tr, Y_real_te, Y_pred_te, graph_on=False):\n",
        "    Score_tr, Residual_tr = evaluation(Y_real_tr, Y_pred_tr, graph_on=graph_on)\n",
        "    Score_te, Residual_te = evaluation(Y_real_te, Y_pred_te, graph_on=graph_on)\n",
        "    Score_trte = pd.concat([Score_tr, Score_te], axis=0)\n",
        "    Score_trte.index = ['Train', 'Test']\n",
        "    return Score_trte, Residual_tr, Residual_te\n",
        "# Score_reg1, Resid_tr_reg1, Resid_te_reg1 = evaluation_trte(Y_train, pred_tr_reg1, Y_test, pred_te_reg1, graph_on=True)\n",
        "\n",
        "\n",
        "### Error analysis\n",
        "def error_analysis(Y_Data, Target_name, X_Data, graph_on=False):\n",
        "    for x in Target_name:\n",
        "        Target_name = x\n",
        "    X_Data = X_Data.loc[Y_Data.index]\n",
        "\n",
        "    if graph_on == True:\n",
        "        ##### Error Analysis(Plot)\n",
        "        Y_Data['RowNum'] = Y_Data.reset_index().index\n",
        "\n",
        "        # Stationarity(Trend) Analysis\n",
        "        sns.set(palette=\"muted\", color_codes=True, font_scale=2)\n",
        "        sns.lmplot(x='RowNum', y=Target_name, data=Y_Data, fit_reg='True', size=5.2, aspect=2, ci=99, sharey=True)\n",
        "        del Y_Data['RowNum']\n",
        "\n",
        "        # Normal Distribution Analysis\n",
        "        figure, axes = plt.subplots(figsize=(12,8))\n",
        "        sns.distplot(Y_Data[Target_name], norm_hist='True', fit=stats.norm, ax=axes)\n",
        "\n",
        "        # Lag Analysis\n",
        "        length = int(len(Y_Data[Target_name])/10)\n",
        "        figure, axes = plt.subplots(1, 4, figsize=(12,3))\n",
        "        pd.plotting.lag_plot(Y_Data[Target_name], lag=1, ax=axes[0])\n",
        "        pd.plotting.lag_plot(Y_Data[Target_name], lag=5, ax=axes[1])\n",
        "        pd.plotting.lag_plot(Y_Data[Target_name], lag=10, ax=axes[2])\n",
        "        pd.plotting.lag_plot(Y_Data[Target_name], lag=50, ax=axes[3])\n",
        "\n",
        "        # Autocorrelation Analysis\n",
        "        figure, axes = plt.subplots(2,1,figsize=(12,5))\n",
        "        sm.tsa.graphics.plot_acf(Y_Data[Target_name], lags=100, use_vlines=True, ax=axes[0])\n",
        "        sm.tsa.graphics.plot_pacf(Y_Data[Target_name], lags=100, use_vlines=True, ax=axes[1]) \n",
        "\n",
        "    ##### Error Analysis(Statistics)\n",
        "    # Checking Stationarity\n",
        "    # Null Hypothesis: The Time-series is non-stationalry\n",
        "    Stationarity = pd.Series(sm.tsa.stattools.adfuller(Y_Data[Target_name])[0:4],\n",
        "                             index=['Test Statistics', 'p-value', 'Used Lag', 'Used Observations'])\n",
        "    for key, value in sm.tsa.stattools.adfuller(Y_Data[Target_name])[4].items():\n",
        "        Stationarity['Critical Value(%s)'%key] = value\n",
        "        Stationarity['Maximum Information Criteria'] = sm.tsa.stattools.adfuller(Y_Data[Target_name])[5]\n",
        "        Stationarity = pd.DataFrame(Stationarity, columns=['Stationarity'])\n",
        "\n",
        "    # Checking of Normality\n",
        "    # Null Hypothesis: The residuals are normally distributed\n",
        "    Normality = pd.DataFrame([stats.shapiro(Y_Data[Target_name])],\n",
        "                             index=['Normality'], columns=['Test Statistics', 'p-value']).T\n",
        "\n",
        "    # Checking for Autocorrelation\n",
        "    # Null Hypothesis: Autocorrelation is absent\n",
        "    Autocorrelation = pd.concat([pd.DataFrame(sm.stats.diagnostic.acorr_ljungbox(Y_Data[Target_name], lags=[1,5,10,50])[0], columns=['Test Statistics']),\n",
        "                                 pd.DataFrame(sm.stats.diagnostic.acorr_ljungbox(Y_Data[Target_name], lags=[1,5,10,50])[1], columns=['p-value'])], axis=1).T\n",
        "    Autocorrelation.columns = ['Autocorr(lag1)', 'Autocorr(lag5)', 'Autocorr(lag10)', 'Autocorr(lag50)']\n",
        "\n",
        "    # Checking Heteroscedasticity\n",
        "    # Null Hypothesis: Error terms are homoscedastic\n",
        "    Heteroscedasticity = pd.DataFrame([sm.stats.diagnostic.het_goldfeldquandt(Y_Data[Target_name], X_Data.values, alternative='two-sided')],\n",
        "                                      index=['Heteroscedasticity'], columns=['Test Statistics', 'p-value', 'Alternative']).T\n",
        "    Score = pd.concat([Stationarity, Normality, Autocorrelation, Heteroscedasticity], join='outer', axis=1)\n",
        "    index_new = ['Test Statistics', 'p-value', 'Alternative', 'Used Lag', 'Used Observations',\n",
        "                 'Critical Value(1%)', 'Critical Value(5%)', 'Critical Value(10%)', 'Maximum Information Criteria']\n",
        "    Score.reindex(index_new)\n",
        "# error_analysis(Resid_tr_reg1[1:], ['Error'], X_train, graph_on=True)"
      ],
      "metadata": {
        "id": "SzEdwBSGx2kA"
      },
      "execution_count": null,
      "outputs": []
    },
    {
      "cell_type": "code",
      "execution_count": null,
      "metadata": {
        "colab": {
          "base_uri": "https://localhost:8080/"
        },
        "id": "8P0Uw5VOvGCr",
        "outputId": "a295606e-006c-47ce-9f82-e01c654925ed"
      },
      "outputs": [
        {
          "output_type": "stream",
          "name": "stdout",
          "text": [
            "Drive already mounted at /contents/; to attempt to forcibly remount, call drive.mount(\"/contents/\", force_remount=True).\n"
          ]
        }
      ],
      "source": [
        "from google.colab import drive\n",
        "\n",
        "drive.mount(\"/contents/\")"
      ]
    },
    {
      "cell_type": "code",
      "source": [
        "import numpy as np\n",
        "import torch\n",
        "import torch.nn as nn\n",
        "from torch.distributions.categorical import Categorical\n",
        "import pandas as pd\n",
        "import matplotlib.pyplot as plt\n",
        "import json\n",
        "\n",
        "b_skills = [\n",
        "    {'idx':0,\n",
        "     'name':'kick',\n",
        "     'damage':25,\n",
        "     'cool':2,\n",
        "     'hit_rate':0.9\n",
        "    },\n",
        "    {'idx':1,\n",
        "     'name':'punch',\n",
        "     'damage':10,\n",
        "     'cool':1,\n",
        "     'hit_rate':1.0\n",
        "    }\n",
        "]\n",
        "\n",
        "p_skills = [\n",
        "    {'idx':0,\n",
        "     'name':'kick',\n",
        "     'damage':25,\n",
        "     'cool':2,\n",
        "     'hit_rate':0.9\n",
        "    },\n",
        "    {'idx':1,\n",
        "     'name':'punch',\n",
        "     'damage':10,\n",
        "     'cool':1,\n",
        "     'hit_rate':1.0\n",
        "    },\n",
        "    {'idx':2,\n",
        "     'name':'heal',\n",
        "     'damage':0,\n",
        "     'cool':5,\n",
        "     'hit_rate':1.0\n",
        "    },\n",
        "    {'idx':3,\n",
        "     'name':'jump',\n",
        "     'damage':0,\n",
        "     'cool':1,\n",
        "     'hit_rate':1.0\n",
        "    },\n",
        "]\n",
        "\n",
        "\n",
        "class boss_raid_simulater():\n",
        "    def __init__(self, b_skills, p_skills, reward_rate):\n",
        "\n",
        "        self.reward_rate = reward_rate\n",
        "\n",
        "        self.full_hp = 100\n",
        "\n",
        "        self.num_bs = len(b_skills)\n",
        "        self.num_ps = len(p_skills)\n",
        "\n",
        "        self.state_dict = dict()\n",
        "        self.state_dict['b_hp'] = self.full_hp\n",
        "        for i in range(len(b_skills)):\n",
        "            self.state_dict[f'b_cool_{i}'] = 0\n",
        "        self.b_skills = b_skills\n",
        "\n",
        "        self.state_dict['p_hp'] = self.full_hp\n",
        "        for i in range(len(p_skills)):\n",
        "            self.state_dict[f'p_cool_{i}'] = 0\n",
        "        self.p_skills = p_skills\n",
        "\n",
        "        self.state = np.array(list(self.state_dict.values()))\n",
        "\n",
        "        self.boss_action = []\n",
        "        self.done = 0\n",
        "        self.len_t = 0\n",
        "\n",
        "        self.reward = 0\n",
        "\n",
        "    def observe(self):\n",
        "        return self.state\n",
        "\n",
        "    def step(self, p_action):\n",
        "        self.len_t += 1\n",
        "        len_t = self.len_t\n",
        "        p_skill = self.p_skills[int(p_action)]\n",
        "\n",
        "        b_action = int(np.random.uniform(0.0, 1.0, 1).round())\n",
        "        self.boss_action.append(b_action)\n",
        "        b_skill = self.b_skills[b_action]\n",
        "\n",
        "        #         self.battle(p_skill, b_skill)\n",
        "        self.battle_with_cool(p_skill, b_skill)\n",
        "\n",
        "        self.reward = (- self.state_dict['b_hp'] * self.reward_rate[0] + self.state_dict['p_hp'] * self.reward_rate[\n",
        "            1] - len_t * self.reward_rate[2])\n",
        "\n",
        "        if self.state_dict['b_hp'] <= 0 or self.state_dict['p_hp'] <= 0:\n",
        "            self.done = 1\n",
        "\n",
        "            if self.state_dict['b_hp'] <= 0:\n",
        "                self.reward += self.full_hp * max([self.reward_rate[0], self.reward_rate[1]]) * self.reward_rate[3]\n",
        "\n",
        "            if self.state_dict['p_hp'] <= 0:\n",
        "                self.reward -= self.full_hp * max([self.reward_rate[0], self.reward_rate[1]]) * self.reward_rate[3]\n",
        "\n",
        "        ns = self.observe()\n",
        "        r = self.reward\n",
        "        done = self.done\n",
        "\n",
        "        return ns, r, done\n",
        "\n",
        "    def battle_with_cool(self, p_skill, b_skill):\n",
        "        p_d = p_skill['damage']\n",
        "        b_d = b_skill['damage']\n",
        "\n",
        "        p_c = p_skill['cool']\n",
        "        b_c = b_skill['cool']\n",
        "\n",
        "        p_i = p_skill['idx']\n",
        "        b_i = b_skill['idx']\n",
        "\n",
        "        p_n = p_skill['name']\n",
        "\n",
        "        p_sc = self.state_dict[f'p_cool_{p_i}']\n",
        "        b_sc = self.state_dict[f'b_cool_{b_i}']\n",
        "\n",
        "        # print(f\"b:{b_skill['name']} / p:{p_skill['name']}\")\n",
        "\n",
        "        if b_sc == 0:\n",
        "            if p_n == 'jump':\n",
        "                if np.random.uniform(0.0, 1.0, 1) < 0.7:\n",
        "                    # print('miss')\n",
        "                    pass\n",
        "                else:\n",
        "                    self.state_dict['p_hp'] -= b_d\n",
        "            else:\n",
        "                self.state_dict['p_hp'] -= b_d\n",
        "            self.state_dict[f'b_cool_{b_i}'] = b_c + 1\n",
        "        for i in range(self.num_bs):\n",
        "            self.state_dict[f'b_cool_{i}'] = max([self.state_dict[f'b_cool_{i}'] - 1, 0])\n",
        "\n",
        "        if p_sc == 0:\n",
        "            if p_n == 'heal':\n",
        "                # print('healed')\n",
        "                self.state_dict['p_hp'] += 20\n",
        "            else:\n",
        "                self.state_dict['b_hp'] -= p_d\n",
        "            self.state_dict[f'p_cool_{p_i}'] = p_c + 1\n",
        "        for i in range(self.num_ps):\n",
        "            self.state_dict[f'p_cool_{i}'] = max([self.state_dict[f'p_cool_{i}'] - 1, 0])\n",
        "\n",
        "        self.state = np.array(list(self.state_dict.values()))\n",
        "\n",
        "\n",
        "class MLP(nn.Module):\n",
        "\n",
        "    def __init__(self,\n",
        "                 input_dim: int,\n",
        "                 output_dim: int,\n",
        "                 num_neurons: list = [64, 32],\n",
        "                 hidden_act: str = 'ReLU',\n",
        "                 out_act: str = 'Identity'):\n",
        "        super(MLP, self).__init__()\n",
        "\n",
        "        self.input_dim = input_dim\n",
        "        self.output_dim = output_dim\n",
        "        self.num_neurons = num_neurons\n",
        "        self.hidden_act = getattr(nn, hidden_act)()\n",
        "        self.out_act = getattr(nn, out_act)()\n",
        "\n",
        "        input_dims = [input_dim] + num_neurons\n",
        "        output_dims = num_neurons + [output_dim]\n",
        "\n",
        "        self.layers = nn.ModuleList()\n",
        "        for i, (in_dim, out_dim) in enumerate(zip(input_dims, output_dims)):\n",
        "            is_last = True if i == len(input_dims) - 1 else False\n",
        "            self.layers.append(nn.Linear(in_dim, out_dim))\n",
        "            if is_last:\n",
        "                self.layers.append(self.out_act)\n",
        "            else:\n",
        "                self.layers.append(self.hidden_act)\n",
        "\n",
        "    def forward(self, xs):\n",
        "        for layer in self.layers:\n",
        "            xs = layer(xs)\n",
        "        return xs\n",
        "\n",
        "\n",
        "class DQN(nn.Module):\n",
        "\n",
        "    def __init__(self,\n",
        "                 state_dim: int,\n",
        "                 action_dim: int,\n",
        "                 qnet: nn.Module,\n",
        "                 qnet_target: nn.Module,\n",
        "                 lr: float,\n",
        "                 gamma: float,\n",
        "                 epsilon: float):\n",
        "        \"\"\"\n",
        "        :param state_dim: input state dimension\n",
        "        :param action_dim: action dimension\n",
        "        :param qnet: main q network\n",
        "        :param qnet_target: target q network\n",
        "        :param lr: learning rate\n",
        "        :param gamma: discount factor of MDP\n",
        "        :param epsilon: E-greedy factor\n",
        "        \"\"\"\n",
        "\n",
        "        super(DQN, self).__init__()\n",
        "        self.state_dim = state_dim\n",
        "        self.action_dim = action_dim\n",
        "        self.qnet = qnet\n",
        "        self.lr = lr\n",
        "        self.gamma = gamma\n",
        "        self.opt = torch.optim.Adam(params=self.qnet.parameters(), lr=lr)\n",
        "        self.register_buffer('epsilon', torch.ones(1) * epsilon)\n",
        "\n",
        "        # target network related\n",
        "        qnet_target.load_state_dict(qnet.state_dict())\n",
        "        self.qnet_target = qnet_target\n",
        "        self.criteria = nn.SmoothL1Loss()\n",
        "\n",
        "    def get_action(self, state):\n",
        "        qs = self.qnet(state)\n",
        "        prob = np.random.uniform(0.0, 1.0, 1)\n",
        "        if torch.from_numpy(prob).float() <= self.epsilon:  # random\n",
        "            action = np.random.choice(range(self.action_dim))\n",
        "        else:  # greedy\n",
        "            action = qs.argmax(dim=-1)\n",
        "        return int(action)\n",
        "\n",
        "    def update(self, state, action, reward, next_state, done):\n",
        "        s, a, r, ns = state, action, reward, next_state\n",
        "\n",
        "        # compute Q-Learning target with 'target network'\n",
        "        with torch.no_grad():\n",
        "            q_max, _ = self.qnet_target(ns).max(dim=-1, keepdims=True)\n",
        "            q_target = r + self.gamma * q_max * (1 - done)\n",
        "\n",
        "        q_val = self.qnet(s).gather(1, a)\n",
        "        loss = self.criteria(q_val, q_target)\n",
        "\n",
        "        self.opt.zero_grad()\n",
        "        loss.backward()\n",
        "        self.opt.step()\n",
        "\n",
        "\n",
        "from random import sample\n",
        "class ReplayMemory:\n",
        "    def __init__(self, max_size):\n",
        "        # deque object that we've used for 'episodic_memory' is not suitable for random sampling\n",
        "        # here, we instead use a fix-size array to implement 'buffer'\n",
        "        self.buffer = [None] * max_size\n",
        "        self.max_size = max_size\n",
        "        self.index = 0\n",
        "        self.size = 0\n",
        "\n",
        "    def push(self, obj):\n",
        "        self.buffer[self.index] = obj\n",
        "        self.size = min(self.size + 1, self.max_size)\n",
        "        self.index = (self.index + 1) % self.max_size\n",
        "\n",
        "    def sample(self, batch_size):\n",
        "        indices = sample(range(self.size), batch_size)\n",
        "        return [self.buffer[index] for index in indices]\n",
        "\n",
        "    def __len__(self):\n",
        "        return self.size\n",
        "\n",
        "\n",
        "from types import prepare_class\n",
        "def to_tensor(np_array: np.array, size=None) -> torch.tensor:\n",
        "    torch_tensor = torch.from_numpy(np_array).float()\n",
        "    if size is not None:\n",
        "        torch_tensor = torch_tensor.view(size)\n",
        "    return torch_tensor\n",
        "\n",
        "\n",
        "def to_numpy(torch_tensor: torch.tensor) -> np.array:\n",
        "    return torch_tensor.cpu().detach().numpy()\n",
        "\n",
        "\n",
        "def prepare_training_inputs(sampled_exps, device='cpu'):\n",
        "    states = []\n",
        "    actions = []\n",
        "    rewards = []\n",
        "    next_states = []\n",
        "    dones = []\n",
        "    for sampled_exp in sampled_exps:\n",
        "        states.append(sampled_exp[0])\n",
        "        actions.append(sampled_exp[1])\n",
        "        rewards.append(sampled_exp[2])\n",
        "        next_states.append(sampled_exp[3])\n",
        "        dones.append(sampled_exp[4])\n",
        "\n",
        "    states = torch.cat(states, dim=0).float().to(device)\n",
        "    actions = torch.cat(actions, dim=0).to(device)\n",
        "    rewards = torch.cat(rewards, dim=0).float().to(device)\n",
        "    next_states = torch.cat(next_states, dim=0).float().to(device)\n",
        "    dones = torch.cat(dones, dim=0).float().to(device)\n",
        "    return states, actions, rewards, next_states, dones\n",
        "\n",
        "\n",
        "def get_agent_to_load(reward_rate, print_all=False, memory_size=1, batch_size=1, ):\n",
        "    env = boss_raid_simulater(b_skills, p_skills, reward_rate)\n",
        "    s_dim = env.state.shape[0]\n",
        "    a_dim = len(p_skills)\n",
        "\n",
        "    qnet = MLP(s_dim, a_dim, num_neurons=[64,64])\n",
        "    qnet_target = MLP(s_dim, a_dim, num_neurons=[64,64])\n",
        "\n",
        "    # initialize target network same as the main network.\n",
        "    qnet_target.load_state_dict(qnet.state_dict())\n",
        "    agent = DQN(s_dim, 1, qnet=qnet, qnet_target=qnet_target, lr=1e-4 * 5, gamma=0.88, epsilon=1.0)\n",
        "    memory = ReplayMemory(memory_size)\n",
        "\n",
        "    # epsilon scheduling\n",
        "    # slowly decaying_epsilon\n",
        "    epsilon = 0.8\n",
        "    agent.epsilon = torch.tensor(epsilon)\n",
        "    env = boss_raid_simulater(b_skills, p_skills, reward_rate)\n",
        "    s = env.observe()\n",
        "    cum_r = 0\n",
        "\n",
        "    while True:\n",
        "        s = to_tensor(s, size=(1, s_dim))\n",
        "        a = agent.get_action(s)\n",
        "        ns, r, done = env.step(a)\n",
        "\n",
        "        experience = (s,\n",
        "                      torch.tensor(a).view(1, 1),\n",
        "                      torch.tensor(r / 100.0).view(1, 1),\n",
        "                      torch.tensor(ns).view(1, s_dim),\n",
        "                      torch.tensor(done).view(1, 1))\n",
        "        memory.push(experience)\n",
        "\n",
        "        s = ns\n",
        "        cum_r += r\n",
        "        if done:\n",
        "            break\n",
        "\n",
        "    # train agent\n",
        "    sampled_exps = memory.sample(batch_size)\n",
        "    sampled_exps = prepare_training_inputs(sampled_exps)\n",
        "    agent.update(*sampled_exps)\n",
        "\n",
        "    qnet_target.load_state_dict(qnet.state_dict())\n",
        "\n",
        "    return agent\n",
        "\n",
        "\n",
        "def load_agent(agent_name):\n",
        "    reward_rate = [0, 0, 0, 0]\n",
        "    agent_load = get_agent_to_load(reward_rate)\n",
        "    agent_load.load_state_dict(torch.load(agent_name))\n",
        "\n",
        "    return agent_load\n",
        "\n",
        "\n",
        "def get_single_play_log(agent):\n",
        "    reward_rate = [0, 0, 0, 0]\n",
        "    sum_wr = 0\n",
        "\n",
        "    log = {'states': [],\n",
        "           'p_actions': [],\n",
        "           'b_actions': [], }\n",
        "\n",
        "    env = boss_raid_simulater(b_skills, p_skills, reward_rate)\n",
        "    s_dim = env.state.shape[0]\n",
        "    a_dim = len(p_skills)\n",
        "    s = env.observe()\n",
        "    cum_r = 0\n",
        "\n",
        "    states = []\n",
        "    actions = []\n",
        "    rewards = []\n",
        "\n",
        "    while True:\n",
        "        s = to_tensor(s, size=(1, s_dim))\n",
        "        a = agent.get_action(s)\n",
        "        ns, r, done = env.step(a)\n",
        "\n",
        "        states.append(list(to_numpy(s)[0]))\n",
        "        actions.append(a)\n",
        "        rewards.append(r)\n",
        "\n",
        "        s = ns\n",
        "        cum_r += r\n",
        "        if done:\n",
        "            break\n",
        "\n",
        "    log['states'] = str(states)\n",
        "    log['p_actions'] = str(actions)\n",
        "    log['b_actions'] = str(env.boss_action)\n",
        "\n",
        "    return log"
      ],
      "metadata": {
        "id": "Kcw9S0h_vO3W"
      },
      "execution_count": null,
      "outputs": []
    },
    {
      "cell_type": "code",
      "source": [
        "agent_load_a = load_agent('/contents/MyDrive/Colab_Notebooks/projects/NCPW/RL/agent/DQN_agent_[10_10_20_20].ptb')\n",
        "agent_load_b = load_agent('/contents/MyDrive/Colab_Notebooks/projects/NCPW/RL/agent/DQN_agent_[10_15_20_20].ptb')\n",
        "agent_load_c = load_agent('/contents/MyDrive/Colab_Notebooks/projects/NCPW/RL/agent/DQN_agent_[20_15_20_20].ptb')"
      ],
      "metadata": {
        "id": "AB9ya33DvRqD"
      },
      "execution_count": null,
      "outputs": []
    },
    {
      "cell_type": "code",
      "source": [
        "logs = [[],[],[]]\n",
        "for _ in range(300):\n",
        "  log_a = json.loads(get_single_play_log(agent_load_a)['states'])\n",
        "  logs[0]+=log_a\n",
        "  log_b = json.loads(get_single_play_log(agent_load_b)['states'])\n",
        "  logs[1]+=log_b\n",
        "  log_c = json.loads(get_single_play_log(agent_load_c)['states'])\n",
        "  logs[2]+=log_c"
      ],
      "metadata": {
        "id": "wGhCIX73vWvN"
      },
      "execution_count": null,
      "outputs": []
    },
    {
      "cell_type": "code",
      "source": [
        "df_a = pd.DataFrame(logs[0])\n",
        "df_b = pd.DataFrame(logs[1])\n",
        "df_c = pd.DataFrame(logs[2])                    "
      ],
      "metadata": {
        "id": "CoqmPc0Dyhzo"
      },
      "execution_count": null,
      "outputs": []
    },
    {
      "cell_type": "code",
      "source": [
        "round(df_a.shape[0]*0.1), round(df_b.shape[0]*0.1), round(df_c.shape[0]*0.1)"
      ],
      "metadata": {
        "colab": {
          "base_uri": "https://localhost:8080/"
        },
        "id": "_oLqK9QN1zvi",
        "outputId": "7b6f4edb-f221-4efa-9017-e6f3669c4588"
      },
      "execution_count": null,
      "outputs": [
        {
          "output_type": "execute_result",
          "data": {
            "text/plain": [
              "(356, 574, 391)"
            ]
          },
          "metadata": {},
          "execution_count": 8
        }
      ]
    },
    {
      "cell_type": "code",
      "source": [
        "raw_a = df_a\n",
        "raw_b = df_b\n",
        "raw_c = df_c\n",
        "\n",
        "# Parameters\n",
        "criteria = df_a.shape[0] - round(df_a.shape[0]*0.1)\n",
        "scaler = preprocessing.MinMaxScaler()\n",
        "sequence = 4\n",
        "batch_size = 32\n",
        "epoch = 5\n",
        "verbose = 1\n",
        "dropout_ratio = 0\n",
        "\n",
        "# Feature Engineering\n",
        "## Train & Test Split\n",
        "train_a = raw_a.loc[raw_a.index < criteria,:]\n",
        "test_a = raw_a.loc[raw_a.index >= criteria,:]\n",
        "\n",
        "train_b = raw_b.loc[raw_b.index < criteria,:]\n",
        "test_b = raw_b.loc[raw_b.index >= criteria,:]\n",
        "\n",
        "train_c = raw_c.loc[raw_c.index < criteria,:]\n",
        "test_c = raw_c.loc[raw_c.index >= criteria,:]\n",
        "\n",
        "print('Train_size:', train_a.shape, 'Test_size:', test_a.shape)\n",
        "print('Train_size:', train_b.shape, 'Test_size:', test_b.shape)\n",
        "print('Train_size:', train_c.shape, 'Test_size:', test_c.shape)\n",
        "\n",
        "## Scaling\n",
        "train_a_scaled = scaler.fit_transform(train_a)\n",
        "test_a_scaled = scaler.transform(test_a)\n",
        "\n",
        "train_b_scaled = scaler.fit_transform(train_b)\n",
        "test_b_scaled = scaler.transform(test_b)\n",
        "\n",
        "train_c_scaled = scaler.fit_transform(train_c)\n",
        "test_c_scaled = scaler.transform(test_c)\n",
        "\n",
        "y_a = [1.0,0.0,0.0]\n",
        "y_b = [0.0,1.0,0.0]\n",
        "y_c = [0.0,0.0,1.0]\n",
        "\n",
        "## X / Y Split\n",
        "X_train, Y_train = [], []\n",
        "for index in range(len(train_a_scaled) - sequence):\n",
        "    X_train.append(train_a_scaled[index: index + sequence])\n",
        "    Y_train.append(y_a)\n",
        "\n",
        "    X_train.append(train_b_scaled[index: index + sequence])\n",
        "    Y_train.append(y_b)\n",
        "\n",
        "    X_train.append(train_c_scaled[index: index + sequence])\n",
        "    Y_train.append(y_c)\n",
        "\n",
        "X_test, Y_test = [], []\n",
        "for index in range(len(test_a_scaled) - sequence):\n",
        "    X_test.append(test_a_scaled[index: index + sequence])\n",
        "    Y_test.append(y_a)\n",
        "\n",
        "    X_test.append(test_b_scaled[index: index + sequence])\n",
        "    Y_test.append(y_b)\n",
        "    \n",
        "    X_test.append(test_c_scaled[index: index + sequence])\n",
        "    Y_test.append(y_c)\n",
        "\n",
        "\n",
        "# ## X / Y Split\n",
        "# X_train, Y_train = [], []\n",
        "# for index in range(len(train_a_scaled) - sequence):\n",
        "#     X_train.append(train_a_scaled[index: index + sequence])\n",
        "#     Y_train.append(y_a)\n",
        "\n",
        "# for index in range(len(train_a_scaled) - sequence):\n",
        "#     X_train.append(train_b_scaled[index: index + sequence])\n",
        "#     Y_train.append(y_b)\n",
        "\n",
        "# for index in range(len(train_a_scaled) - sequence):\n",
        "#     X_train.append(train_c_scaled[index: index + sequence])\n",
        "#     Y_train.append(y_c)\n",
        "\n",
        "# X_test_a, Y_test_a = [], []\n",
        "# for index in range(len(test_a_scaled) - sequence):\n",
        "#     X_test_a.append(test_a_scaled[index: index + sequence])\n",
        "#     Y_test_a.append(y_a)\n",
        "\n",
        "# X_test_b, Y_test_b = [], []\n",
        "# for index in range(len(test_a_scaled) - sequence):\n",
        "#     X_test_b.append(test_b_scaled[index: index + sequence])\n",
        "#     Y_test_b.append(y_b)\n",
        "    \n",
        "# X_test_c, Y_test_c = [], []\n",
        "# for index in range(len(test_a_scaled) - sequence):\n",
        "#     X_test_c.append(test_c_scaled[index: index + sequence])\n",
        "#     Y_test_c.append(y_c)\n",
        "\n",
        "\n",
        "# Retype and Reshape\n",
        "X_train, Y_train = np.array(X_train), np.array(Y_train)\n",
        "X_test, Y_test = np.array(X_test), np.array(Y_test)\n",
        "\n",
        "print('X_train:', X_train.shape, 'Y_train:', Y_train.shape)\n",
        "print('X_test:', X_test.shape, 'Y_test:', Y_test.shape)\n",
        "\n",
        "# X_test_a, Y_test_a = np.array(X_test_a), np.array(Y_test_a)\n",
        "# X_test_b, Y_test_b = np.array(X_test_b), np.array(Y_test_b)\n",
        "# X_test_c, Y_test_c = np.array(X_test_c), np.array(Y_test_c)\n",
        "\n",
        "# print('X_train:', X_train.shape, 'Y_train:', Y_train.shape)\n",
        "# print('X_test:', X_test.shape, 'Y_test:', Y_test.shape)"
      ],
      "metadata": {
        "colab": {
          "base_uri": "https://localhost:8080/"
        },
        "id": "13I-HQzj8jnY",
        "outputId": "d72455d8-fab2-4b5f-a9c9-a4c08e7d1092"
      },
      "execution_count": null,
      "outputs": [
        {
          "output_type": "stream",
          "name": "stdout",
          "text": [
            "Train_size: (3200, 8) Test_size: (356, 8)\n",
            "Train_size: (3200, 8) Test_size: (2541, 8)\n",
            "Train_size: (3200, 8) Test_size: (708, 8)\n",
            "X_train: (9588, 4, 8) Y_train: (9588, 3)\n",
            "X_test: (1056, 4, 8) Y_test: (1056, 3)\n"
          ]
        }
      ]
    },
    {
      "cell_type": "code",
      "source": [
        "# np.array(X_test.tolist())\n",
        "X_test\n",
        "# X_train"
      ],
      "metadata": {
        "colab": {
          "base_uri": "https://localhost:8080/"
        },
        "id": "7zhO1hSsZJDi",
        "outputId": "a844678e-9b30-4746-cd13-fd461274ee7c"
      },
      "execution_count": null,
      "outputs": [
        {
          "output_type": "execute_result",
          "data": {
            "text/plain": [
              "array([[[0.        , 0.        , 1.        , ..., 0.        ,\n",
              "         0.        , 1.        ],\n",
              "        [0.        , 0.        , 0.        , ..., 0.        ,\n",
              "         0.        , 0.        ],\n",
              "        [0.        , 0.        , 1.        , ..., 0.        ,\n",
              "         0.        , 1.        ],\n",
              "        [0.        , 1.        , 0.        , ..., 0.        ,\n",
              "         0.        , 0.        ]],\n",
              "\n",
              "       [[0.47368421, 0.        , 0.        , ..., 0.        ,\n",
              "         0.4       , 1.        ],\n",
              "        [0.47368421, 0.        , 1.        , ..., 0.        ,\n",
              "         0.2       , 0.        ],\n",
              "        [0.47368421, 0.        , 0.        , ..., 0.        ,\n",
              "         0.        , 1.        ],\n",
              "        [0.47368421, 0.        , 1.        , ..., 0.        ,\n",
              "         0.        , 0.        ]],\n",
              "\n",
              "       [[0.10526316, 0.        , 1.        , ..., 0.        ,\n",
              "         0.        , 0.        ],\n",
              "        [0.10526316, 0.        , 0.        , ..., 0.        ,\n",
              "         0.        , 1.        ],\n",
              "        [0.10526316, 1.        , 0.        , ..., 0.        ,\n",
              "         0.        , 0.        ],\n",
              "        [0.10526316, 0.5       , 0.        , ..., 0.        ,\n",
              "         0.        , 1.        ]],\n",
              "\n",
              "       ...,\n",
              "\n",
              "       [[0.33333333, 0.        , 1.        , ..., 0.        ,\n",
              "         0.4       , 1.        ],\n",
              "        [0.33333333, 1.        , 0.        , ..., 0.        ,\n",
              "         0.2       , 0.        ],\n",
              "        [0.        , 0.5       , 1.        , ..., 0.        ,\n",
              "         0.        , 0.        ],\n",
              "        [0.        , 0.        , 0.        , ..., 0.        ,\n",
              "         0.        , 1.        ]],\n",
              "\n",
              "       [[0.21052632, 0.        , 0.        , ..., 0.        ,\n",
              "         0.6       , 0.        ],\n",
              "        [0.21052632, 0.        , 1.        , ..., 0.        ,\n",
              "         0.4       , 1.        ],\n",
              "        [0.21052632, 0.        , 0.        , ..., 0.        ,\n",
              "         0.2       , 0.        ],\n",
              "        [0.21052632, 1.        , 0.        , ..., 0.        ,\n",
              "         0.        , 1.        ]],\n",
              "\n",
              "       [[0.        , 0.        , 0.        , ..., 0.        ,\n",
              "         0.        , 0.        ],\n",
              "        [0.        , 1.        , 0.        , ..., 0.        ,\n",
              "         0.        , 1.        ],\n",
              "        [1.        , 0.        , 0.        , ..., 0.        ,\n",
              "         0.        , 0.        ],\n",
              "        [0.73684211, 1.        , 0.        , ..., 0.        ,\n",
              "         0.        , 0.        ]]])"
            ]
          },
          "metadata": {},
          "execution_count": 10
        }
      ]
    },
    {
      "cell_type": "code",
      "source": [
        "# LSTM\n",
        "# with tf.device('/device:GPU:0'):\n",
        "model = Sequential()\n",
        "model.add(LSTM(32, input_shape=(X_train.shape[1], X_train.shape[2]), return_sequences=True, activation='relu'))\n",
        "model.add(Dropout(dropout_ratio)) \n",
        "# model.add(LSTM(128, return_sequences=True, activation=\"relu\"))\n",
        "# model.add(Dropout(dropout_ratio)) \n",
        "model.add(LSTM(16, return_sequences=False, activation=\"relu\"))\n",
        "model.add(Dropout(dropout_ratio)) \n",
        "model.add(Dense(3))\n",
        "model.compile(optimizer='adam', loss='mean_squared_error')\n",
        "model.summary()\n",
        "model_fit = model.fit(X_train, Y_train, \n",
        "                      batch_size=batch_size, epochs=epoch,\n",
        "                      verbose=verbose)\n",
        "\n",
        "plt.plot(pd.DataFrame(model_fit.history))\n",
        "plt.grid(True)\n",
        "plt.show()\n",
        "\n",
        "# prediction\n",
        "Y_train_pred = model.predict(X_train)\n",
        "Y_test_pred = model.predict(X_test)\n",
        "\n",
        "# evaluation\n",
        "result = model.evaluate(X_test, Y_test_pred)\n",
        "# if scaler != []:\n",
        "#     Y_train = scaler.inverse_transform(Y_train)\n",
        "#     Y_train_pred = scaler.inverse_transform(Y_train_pred)\n",
        "#     Y_test = scaler.inverse_transform(Y_test)\n",
        "#     Y_test_pred = scaler.inverse_transform(Y_test_pred)\n",
        "# Score_LSTM, Residual_tr, Residual_te = evaluation_trte(pd.DataFrame(Y_train), Y_train_pred.flatten(), \n",
        "#                                                       pd.DataFrame(Y_test), Y_test_pred.flatten(), graph_on=True)\n",
        "# display(Score_LSTM)\n",
        "\n",
        "# error analysis\n",
        "# error_analysis(Residual_te, ['Error'], pd.DataFrame(X_train.reshape(X_train.shape[0], X_train.shape[1])), graph_on=True)"
      ],
      "metadata": {
        "colab": {
          "base_uri": "https://localhost:8080/",
          "height": 841
        },
        "id": "ER7-bjo80yZe",
        "outputId": "f40a465e-1a13-4837-a287-3fe305a558a1"
      },
      "execution_count": null,
      "outputs": [
        {
          "output_type": "stream",
          "name": "stdout",
          "text": [
            "WARNING:tensorflow:Layer lstm_2 will not use cuDNN kernels since it doesn't meet the criteria. It will use a generic GPU kernel as fallback when running on GPU.\n",
            "WARNING:tensorflow:Layer lstm_3 will not use cuDNN kernels since it doesn't meet the criteria. It will use a generic GPU kernel as fallback when running on GPU.\n",
            "Model: \"sequential_2\"\n",
            "_________________________________________________________________\n",
            " Layer (type)                Output Shape              Param #   \n",
            "=================================================================\n",
            " lstm_2 (LSTM)               (None, 4, 32)             5248      \n",
            "                                                                 \n",
            " dropout_4 (Dropout)         (None, 4, 32)             0         \n",
            "                                                                 \n",
            " lstm_3 (LSTM)               (None, 16)                3136      \n",
            "                                                                 \n",
            " dropout_5 (Dropout)         (None, 16)                0         \n",
            "                                                                 \n",
            " dense_2 (Dense)             (None, 3)                 51        \n",
            "                                                                 \n",
            "=================================================================\n",
            "Total params: 8,435\n",
            "Trainable params: 8,435\n",
            "Non-trainable params: 0\n",
            "_________________________________________________________________\n",
            "Epoch 1/5\n",
            "322/322 [==============================] - 20s 54ms/step - loss: 0.1465\n",
            "Epoch 2/5\n",
            "322/322 [==============================] - 10s 32ms/step - loss: 0.0762\n",
            "Epoch 3/5\n",
            "322/322 [==============================] - 10s 32ms/step - loss: 0.0614\n",
            "Epoch 4/5\n",
            "322/322 [==============================] - 10s 32ms/step - loss: 0.0523\n",
            "Epoch 5/5\n",
            "322/322 [==============================] - 10s 32ms/step - loss: 0.0467\n"
          ]
        },
        {
          "output_type": "display_data",
          "data": {
            "image/png": "[encoded data removed]",
            "text/plain": [
              "<Figure size 432x288 with 1 Axes>"
            ]
          },
          "metadata": {
            "needs_background": "light"
          }
        },
        {
          "output_type": "stream",
          "name": "stdout",
          "text": [
            "36/36 [==============================] - 1s 5ms/step - loss: 0.0000e+00\n"
          ]
        }
      ]
    },
    {
      "cell_type": "code",
      "source": [
        "# prediction\n",
        "# Y_train_pred = model.predict(X_train)\n",
        "Y_test_pred = model.predict(X_test)\n",
        "\n",
        "# # evaluation\n",
        "# result = model.evaluate(X_test_a, Y_test_pred)\n",
        "\n",
        "Y_test_pred\n",
        "# Y_test_pred[:,0].mean(), Y_test_pred[:,1].mean(), Y_test_pred[:,2].mean()"
      ],
      "metadata": {
        "colab": {
          "base_uri": "https://localhost:8080/"
        },
        "id": "SwMMysGIkUb5",
        "outputId": "2caec6f8-1e6b-4ea0-88e2-478de9d482e3"
      },
      "execution_count": null,
      "outputs": [
        {
          "output_type": "execute_result",
          "data": {
            "text/plain": [
              "array([[ 0.7490121 , -0.09192742,  0.28116995],\n",
              "       [-0.0295599 ,  1.098648  , -0.03829005],\n",
              "       [ 0.00496428,  0.13168696,  0.84811777],\n",
              "       ...,\n",
              "       [ 0.7854265 ,  0.0175014 ,  0.24295655],\n",
              "       [ 0.0686049 ,  0.8146117 ,  0.09408709],\n",
              "       [-0.04260239,  0.07432953,  0.9169396 ]], dtype=float32)"
            ]
          },
          "metadata": {},
          "execution_count": 17
        }
      ]
    },
    {
      "cell_type": "code",
      "source": [
        ""
      ],
      "metadata": {
        "id": "1-kZMex3kUfe"
      },
      "execution_count": null,
      "outputs": []
    },
    {
      "cell_type": "code",
      "source": [
        "# GRU\n",
        "# with tf.device('/device:GPU:0'):\n",
        "model = Sequential()\n",
        "model.add(GRU(32, input_shape=(X_train.shape[1], X_train.shape[2]), return_sequences=True, activation='relu'))\n",
        "model.add(Dropout(dropout_ratio)) \n",
        "# model.add(GRU(256, return_sequences=True, activation=\"relu\"))\n",
        "# model.add(Dropout(dropout_ratio)) \n",
        "# model.add(GRU(128, return_sequences=True, activation=\"relu\"))\n",
        "# model.add(Dropout(dropout_ratio)) \n",
        "model.add(GRU(16, return_sequences=False, activation=\"relu\"))\n",
        "model.add(Dropout(dropout_ratio)) \n",
        "model.add(Dense(3))\n",
        "model.compile(optimizer='adam', loss='mean_squared_error')\n",
        "model.summary()\n",
        "model_fit = model.fit(X_train, Y_train, \n",
        "                      batch_size=batch_size, epochs=epoch,\n",
        "                      verbose=verbose)\n",
        "\n",
        "plt.plot(pd.DataFrame(model_fit.history))\n",
        "plt.grid(True)\n",
        "plt.show()\n",
        "\n",
        "# prediction\n",
        "Y_train_pred = model.predict(X_train)\n",
        "Y_test_pred = model.predict(X_test)\n",
        "\n",
        "# evaluation\n",
        "result = model.evaluate(X_test, Y_test_pred)\n",
        "# if scaler != []:\n",
        "#     Y_train = scaler.inverse_transform(Y_train)\n",
        "#     Y_train_pred = scaler.inverse_transform(Y_train_pred)\n",
        "#     Y_test = scaler.inverse_transform(Y_test)\n",
        "#     Y_test_pred = scaler.inverse_transform(Y_test_pred)\n",
        "# Score_GRU, Residual_tr, Residual_te = evaluation_trte(pd.DataFrame(Y_train), Y_train_pred, \n",
        "#                                                       pd.DataFrame(Y_test), Y_test_pred, graph_on=True)\n",
        "# display(Score_GRU)\n",
        "\n",
        "# # error analysis\n",
        "# error_analysis(Residual_te, ['Error'], pd.DataFrame(X_train.reshape(X_train.shape[0], X_train.shape[1])), graph_on=True)"
      ],
      "metadata": {
        "colab": {
          "base_uri": "https://localhost:8080/",
          "height": 823
        },
        "id": "erHcdkv91cgG",
        "outputId": "01e5b45d-e550-48a6-cd18-c8cfad6c1f95"
      },
      "execution_count": null,
      "outputs": [
        {
          "output_type": "stream",
          "name": "stdout",
          "text": [
            "WARNING:tensorflow:Layer gru will not use cuDNN kernel since it doesn't meet the cuDNN kernel criteria. It will use generic GPU kernel as fallback when running on GPU\n",
            "WARNING:tensorflow:Layer gru_1 will not use cuDNN kernel since it doesn't meet the cuDNN kernel criteria. It will use generic GPU kernel as fallback when running on GPU\n",
            "Model: \"sequential\"\n",
            "_________________________________________________________________\n",
            "Layer (type)                 Output Shape              Param #   \n",
            "=================================================================\n",
            "gru (GRU)                    (None, 4, 32)             4032      \n",
            "_________________________________________________________________\n",
            "dropout (Dropout)            (None, 4, 32)             0         \n",
            "_________________________________________________________________\n",
            "gru_1 (GRU)                  (None, 16)                2400      \n",
            "_________________________________________________________________\n",
            "dropout_1 (Dropout)          (None, 16)                0         \n",
            "_________________________________________________________________\n",
            "dense (Dense)                (None, 3)                 51        \n",
            "=================================================================\n",
            "Total params: 6,483\n",
            "Trainable params: 6,483\n",
            "Non-trainable params: 0\n",
            "_________________________________________________________________\n",
            "Epoch 1/5\n",
            "300/300 [==============================] - 38s 91ms/step - loss: 0.1864\n",
            "Epoch 2/5\n",
            "300/300 [==============================] - 17s 58ms/step - loss: 0.0697\n",
            "Epoch 3/5\n",
            "300/300 [==============================] - 11s 37ms/step - loss: 0.0554\n",
            "Epoch 4/5\n",
            "300/300 [==============================] - 11s 36ms/step - loss: 0.0494\n",
            "Epoch 5/5\n",
            "300/300 [==============================] - 12s 42ms/step - loss: 0.0449\n"
          ]
        },
        {
          "output_type": "display_data",
          "data": {
            "image/png": "[encoded data removed]",
            "text/plain": [
              "<Figure size 432x288 with 1 Axes>"
            ]
          },
          "metadata": {
            "needs_background": "light"
          }
        },
        {
          "output_type": "stream",
          "name": "stdout",
          "text": [
            "33/33 [==============================] - 1s 3ms/step - loss: 0.0000e+00\n"
          ]
        }
      ]
    },
    {
      "cell_type": "code",
      "source": [
        "# prediction\n",
        "Y_train_pred = model.predict(X_train)\n",
        "# Y_test_pred = model.predict(X_test)\n",
        "\n",
        "# # evaluation\n",
        "# result = model.evaluate(X_test_a, Y_test_pred)\n",
        "\n",
        "Y_train_pred\n",
        "# Y_test_pred\n",
        "\n",
        "# Y_test_pred[:,0].mean(), Y_test_pred[:,1].mean(), Y_test_pred[:,2].mean()"
      ],
      "metadata": {
        "colab": {
          "base_uri": "https://localhost:8080/"
        },
        "id": "wXDM1VSXkzvH",
        "outputId": "8bdbc517-3f97-4fa2-aca6-1e8eac5d26e3"
      },
      "execution_count": null,
      "outputs": [
        {
          "output_type": "execute_result",
          "data": {
            "text/plain": [
              "array([[ 1.0112829 , -0.03642473,  0.06247383],\n",
              "       [-0.02140309,  0.9427316 ,  0.0493685 ],\n",
              "       [ 0.05671174, -0.0120296 ,  0.93993187],\n",
              "       ...,\n",
              "       [ 0.9503317 , -0.11450075,  0.19628632],\n",
              "       [-0.03033249,  0.9014447 ,  0.07251298],\n",
              "       [ 0.26795328,  0.12299843,  0.6673869 ]], dtype=float32)"
            ]
          },
          "metadata": {},
          "execution_count": 17
        }
      ]
    },
    {
      "cell_type": "code",
      "source": [
        "# X_test\n",
        "X_train"
      ],
      "metadata": {
        "colab": {
          "base_uri": "https://localhost:8080/"
        },
        "id": "1LgCMeGrkzyi",
        "outputId": "9558197f-f282-46c3-b9c4-bc780f40b02c"
      },
      "execution_count": null,
      "outputs": [
        {
          "output_type": "execute_result",
          "data": {
            "text/plain": [
              "array([[[1.        , 0.        , 0.        , ..., 0.        ,\n",
              "         0.        , 0.        ],\n",
              "        [0.66666667, 0.        , 1.        , ..., 0.        ,\n",
              "         0.        , 0.        ],\n",
              "        [0.66666667, 1.        , 0.        , ..., 0.        ,\n",
              "         1.        , 0.        ],\n",
              "        [0.66666667, 0.5       , 1.        , ..., 0.        ,\n",
              "         0.8       , 0.        ]],\n",
              "\n",
              "       [[1.        , 0.        , 0.        , ..., 0.        ,\n",
              "         0.        , 0.        ],\n",
              "        [1.        , 1.        , 0.        , ..., 0.        ,\n",
              "         0.        , 1.        ],\n",
              "        [1.        , 0.5       , 1.        , ..., 0.        ,\n",
              "         1.        , 0.        ],\n",
              "        [0.73684211, 0.        , 0.        , ..., 0.        ,\n",
              "         0.8       , 0.        ]],\n",
              "\n",
              "       [[1.        , 0.        , 0.        , ..., 0.        ,\n",
              "         0.        , 0.        ],\n",
              "        [0.73684211, 1.        , 0.        , ..., 0.        ,\n",
              "         0.        , 0.        ],\n",
              "        [0.73684211, 0.5       , 0.        , ..., 0.        ,\n",
              "         1.        , 0.        ],\n",
              "        [0.63157895, 0.        , 1.        , ..., 1.        ,\n",
              "         0.8       , 0.        ]],\n",
              "\n",
              "       ...,\n",
              "\n",
              "       [[0.        , 1.        , 0.        , ..., 0.        ,\n",
              "         0.        , 1.        ],\n",
              "        [0.        , 0.5       , 1.        , ..., 0.        ,\n",
              "         0.        , 0.        ],\n",
              "        [1.        , 0.        , 0.        , ..., 0.        ,\n",
              "         0.        , 0.        ],\n",
              "        [0.66666667, 0.        , 1.        , ..., 0.        ,\n",
              "         0.        , 0.        ]],\n",
              "\n",
              "       [[1.        , 0.        , 0.        , ..., 0.        ,\n",
              "         0.        , 0.        ],\n",
              "        [1.        , 1.        , 0.        , ..., 0.        ,\n",
              "         0.        , 1.        ],\n",
              "        [1.        , 0.5       , 0.        , ..., 0.        ,\n",
              "         1.        , 0.        ],\n",
              "        [0.73684211, 0.        , 0.        , ..., 0.        ,\n",
              "         0.8       , 0.        ]],\n",
              "\n",
              "       [[0.26315789, 0.        , 0.        , ..., 0.        ,\n",
              "         0.2       , 0.        ],\n",
              "        [0.        , 0.        , 1.        , ..., 0.        ,\n",
              "         0.        , 0.        ],\n",
              "        [1.        , 0.        , 0.        , ..., 0.        ,\n",
              "         0.        , 0.        ],\n",
              "        [0.73684211, 1.        , 0.        , ..., 0.        ,\n",
              "         0.        , 0.        ]]])"
            ]
          },
          "metadata": {},
          "execution_count": 20
        }
      ]
    },
    {
      "cell_type": "code",
      "source": [
        "agent_load_test = load_agent('/contents/MyDrive/Colab_Notebooks/projects/NCPW/RL/agent/DQN_agent_[10_15_20_20]_test2.ptb')\n",
        "\n",
        "logs_test = []\n",
        "for _ in range(300):\n",
        "  log = json.loads(get_single_play_log(agent_load_test)['states'])\n",
        "  logs_test+=log\n",
        "\n",
        "df_test = pd.DataFrame(logs_test)     \n",
        "test_scaled = scaler.fit_transform(df_test)  \n",
        "\n",
        "X_test_test = []\n",
        "for index in range(len(test_scaled) - sequence):\n",
        "    X_test_test.append(test_scaled[index: index + sequence])\n",
        "\n",
        "## Retype and Reshape\n",
        "X_test_test = np.array(X_test_test)\n",
        "print('X_test_test:', X_test_test.shape)"
      ],
      "metadata": {
        "colab": {
          "base_uri": "https://localhost:8080/"
        },
        "id": "T0RFxJmPe-RP",
        "outputId": "cecb110f-9d83-400b-94bf-4cfef7b83870"
      },
      "execution_count": null,
      "outputs": [
        {
          "output_type": "stream",
          "name": "stdout",
          "text": [
            "X_test_test: (12373, 4, 8)\n"
          ]
        }
      ]
    },
    {
      "cell_type": "code",
      "source": [
        "result = model.predict(X_test_test)\n",
        "result"
      ],
      "metadata": {
        "colab": {
          "base_uri": "https://localhost:8080/"
        },
        "id": "fbbFp6yYEiL_",
        "outputId": "6c450c43-aaa2-495f-b734-c51668246944"
      },
      "execution_count": null,
      "outputs": [
        {
          "output_type": "execute_result",
          "data": {
            "text/plain": [
              "array([[-0.01226191,  1.0347848 ,  0.03124857],\n",
              "       [-0.00692205,  1.0568798 , -0.00246641],\n",
              "       [ 0.01154498,  1.0293908 ,  0.02055264],\n",
              "       ...,\n",
              "       [-0.0982015 ,  0.9838391 , -0.0101915 ],\n",
              "       [-0.01539788,  0.9665281 , -0.02346746],\n",
              "       [ 0.12531675,  1.0158839 , -0.07319714]], dtype=float32)"
            ]
          },
          "metadata": {},
          "execution_count": 15
        }
      ]
    },
    {
      "cell_type": "code",
      "source": [
        "result[:,0].mean(), result[:,1].mean(), result[:,2].mean()"
      ],
      "metadata": {
        "colab": {
          "base_uri": "https://localhost:8080/"
        },
        "id": "-OiTT5jYfFq2",
        "outputId": "87dc3375-c097-4e26-b0c8-d8a6c407cdb8"
      },
      "execution_count": null,
      "outputs": [
        {
          "output_type": "execute_result",
          "data": {
            "text/plain": [
              "(-0.013199004, 0.94996226, 0.06165413)"
            ]
          },
          "metadata": {},
          "execution_count": 16
        }
      ]
    },
    {
      "cell_type": "code",
      "source": [
        ""
      ],
      "metadata": {
        "id": "CodebyLpgIU9"
      },
      "execution_count": null,
      "outputs": []
    },
    {
      "cell_type": "code",
      "source": [
        "model = None"
      ],
      "metadata": {
        "id": "Dt6hjuvk3wZ-"
      },
      "execution_count": null,
      "outputs": []
    },
    {
      "cell_type": "code",
      "source": [
        "model.save('/contents/MyDrive/Colab_Notebooks/projects/NCPW/Classification/GRU_model_240')"
      ],
      "metadata": {
        "colab": {
          "base_uri": "https://localhost:8080/"
        },
        "id": "0KY2BV4W3xWr",
        "outputId": "56cd61d9-e7e2-45ed-c70d-4c6793b43053"
      },
      "execution_count": null,
      "outputs": [
        {
          "output_type": "stream",
          "name": "stdout",
          "text": [
            "INFO:tensorflow:Assets written to: /contents/MyDrive/Colab_Notebooks/projects/NCPW/Classification/GRU_model_240/assets\n"
          ]
        }
      ]
    },
    {
      "cell_type": "code",
      "source": [
        "model = tf.keras.models.load_model('/contents/MyDrive/Colab_Notebooks/projects/NCPW/Classification/GRU_model_240')"
      ],
      "metadata": {
        "colab": {
          "base_uri": "https://localhost:8080/"
        },
        "id": "Cg77XmqV4Lyq",
        "outputId": "12deeb23-7f28-49f2-baed-6841c7a3371e"
      },
      "execution_count": null,
      "outputs": [
        {
          "output_type": "stream",
          "name": "stdout",
          "text": [
            "WARNING:tensorflow:Layer gru will not use cuDNN kernel since it doesn't meet the cuDNN kernel criteria. It will use generic GPU kernel as fallback when running on GPU\n",
            "WARNING:tensorflow:Layer gru_1 will not use cuDNN kernel since it doesn't meet the cuDNN kernel criteria. It will use generic GPU kernel as fallback when running on GPU\n"
          ]
        }
      ]
    },
    {
      "cell_type": "code",
      "source": [
        ""
      ],
      "metadata": {
        "id": "FViL13m74fBW"
      },
      "execution_count": null,
      "outputs": []
    }
  ]
}